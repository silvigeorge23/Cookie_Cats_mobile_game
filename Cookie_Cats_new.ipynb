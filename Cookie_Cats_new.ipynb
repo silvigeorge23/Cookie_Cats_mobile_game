{
  "nbformat": 4,
  "nbformat_minor": 0,
  "metadata": {
    "colab": {
      "provenance": [],
      "authorship_tag": "ABX9TyMCJ7oCbnzEnaR9VCd9k0bd",
      "include_colab_link": true
    },
    "kernelspec": {
      "name": "python3",
      "display_name": "Python 3"
    },
    "language_info": {
      "name": "python"
    }
  },
  "cells": [
    {
      "cell_type": "markdown",
      "metadata": {
        "id": "view-in-github",
        "colab_type": "text"
      },
      "source": [
        "<a href=\"https://colab.research.google.com/github/silvigeorge23/Cookie_Cats_mobile_game/blob/main/Cookie_Cats_new.ipynb\" target=\"_parent\"><img src=\"https://colab.research.google.com/assets/colab-badge.svg\" alt=\"Open In Colab\"/></a>"
      ]
    },
    {
      "cell_type": "markdown",
      "source": [
        "#What is A/B testing?\n",
        "\n",
        "A/B testing, or Split testing, compares two versions or options of an app/ webpage to identify the better performer. This method is based on real data than guesses by comparing the options to learn what customers prefer.\n",
        "A/B testing refers to a randomised experimentation process where two or more versions of a variable are shown to different segments of website visitors at the same time tod etermine which version leaves the maximum impact and drives business metrics.\n",
        "\n",
        "#The math behind A/B testing\n",
        "\n",
        " - Hypothesis testing with null and alternative hypotheses\n",
        " - Statistical significance using p-values and alpha error\n",
        " - Confidence intervals to quantify uncertainty\n",
        " - Statistical power analysis to detect effect sizes\n",
        " - Data sampling and distributions like normal, binomial"
      ],
      "metadata": {
        "id": "kz0oAZM3cnVU"
      }
    },
    {
      "cell_type": "markdown",
      "source": [
        "#Cookie Cats Context\n",
        "\n",
        "Cookie Cats is an mobile puzzle game featuring a 'connect three' style strategy....and singing cats.\n",
        "As players progress through the levels of the gme, they will occasionally encounter gates that force them to wait before they can progress or pay to progress. The idea behind this is to encourage in-app purchases and give players an enforced break from the game, hopefully resulting in an increased and prolonged enjoyment of the game.\n",
        "\n",
        "The aim of the task is to decide where to place these gates. The first gate was placed at level 30. We are going to analyse an AB test to look at the impact on player retention."
      ],
      "metadata": {
        "id": "Ak4yOJlFA0Hi"
      }
    },
    {
      "cell_type": "markdown",
      "source": [
        "#Data Dictionary\n",
        "\n",
        "There are 90189 entries. Column names are as follows:\n",
        "\n",
        " - User ID: unique nunmber to identify each player\n",
        " - Version: identify which control group the player is in: gate_30 or gate_40\n",
        " - Sum_gamerounds: number of game rounds the player played during the first 14 days after install\n",
        " - Retention_1: Did the player come back and play 1 day after installing? (True/False)\n",
        " - Retention_7: Did the player come back and play 7 days after installing? (True/False"
      ],
      "metadata": {
        "id": "RU7BuoTw8O42"
      }
    },
    {
      "cell_type": "markdown",
      "source": [
        "#Task 1: Prerequisites"
      ],
      "metadata": {
        "id": "Zsj0WbSe0QKU"
      }
    },
    {
      "cell_type": "markdown",
      "source": [
        "Task 1: Set up the environment (although only pandas is required)\n",
        " - Import Pandas\n",
        " - Read in the data file"
      ],
      "metadata": {
        "id": "MCfwIYAf2LUo"
      }
    },
    {
      "cell_type": "code",
      "execution_count": 22,
      "metadata": {
        "id": "3RLTH_GoLXFG"
      },
      "outputs": [],
      "source": [
        "import pandas as pd\n",
        "import numpy as np\n",
        "import matplotlib"
      ]
    },
    {
      "cell_type": "code",
      "source": [
        "df = pd.read_csv(\"cookie_cats.csv\")"
      ],
      "metadata": {
        "id": "5H9q8XsyLbVU"
      },
      "execution_count": 23,
      "outputs": []
    },
    {
      "cell_type": "markdown",
      "source": [
        "#Task 2: The AB-test data"
      ],
      "metadata": {
        "id": "hOEBrE3I0WbN"
      }
    },
    {
      "cell_type": "markdown",
      "source": [
        " When a player installed the game, they were randomly assigned to either gate_30 or gate_40. Check if the quantity of players in each variable are roughly the same."
      ],
      "metadata": {
        "id": "2ZXwCmH2AXu3"
      }
    },
    {
      "cell_type": "code",
      "source": [
        "df.groupby('version')['userid'].count()"
      ],
      "metadata": {
        "colab": {
          "base_uri": "https://localhost:8080/"
        },
        "id": "bL8L41-vLrqo",
        "outputId": "ab75330a-2c64-4451-83ec-056e40caaddd"
      },
      "execution_count": 24,
      "outputs": [
        {
          "output_type": "execute_result",
          "data": {
            "text/plain": [
              "version\n",
              "gate_30    44700\n",
              "gate_40    45489\n",
              "Name: userid, dtype: int64"
            ]
          },
          "metadata": {},
          "execution_count": 24
        }
      ]
    },
    {
      "cell_type": "markdown",
      "source": [
        "Roughly the same, and adds to 90,189 entries!"
      ],
      "metadata": {
        "id": "AjjSMIA6hQyJ"
      }
    },
    {
      "cell_type": "markdown",
      "source": [
        "#Task 3:The distribution of game rounds"
      ],
      "metadata": {
        "id": "obs1Eb9t0ZE3"
      }
    },
    {
      "cell_type": "markdown",
      "source": [
        "Plot the distribution of the number of game rounds players played during the first week of playing the game."
      ],
      "metadata": {
        "id": "tZaO7bPqgYgd"
      }
    },
    {
      "cell_type": "code",
      "source": [
        "plot_df = df.groupby('sum_gamerounds')['userid'].count()"
      ],
      "metadata": {
        "id": "7pokZaauLvIz"
      },
      "execution_count": 25,
      "outputs": []
    },
    {
      "cell_type": "code",
      "source": [
        "ax = plot_df.head(n=100).plot(x = \"sum_gamerounds\",y=\"userid\")\n",
        "ax.set_xlabel(\"Game rounds\")"
      ],
      "metadata": {
        "colab": {
          "base_uri": "https://localhost:8080/",
          "height": 466
        },
        "id": "ggDnPDWAOedo",
        "outputId": "7f193e05-30b6-494f-c7f8-6747d76004f8"
      },
      "execution_count": 26,
      "outputs": [
        {
          "output_type": "execute_result",
          "data": {
            "text/plain": [
              "Text(0.5, 0, 'Game rounds')"
            ]
          },
          "metadata": {},
          "execution_count": 26
        },
        {
          "output_type": "display_data",
          "data": {
            "text/plain": [
              "<Figure size 640x480 with 1 Axes>"
            ],
            "image/png": "[encoded data removed]"
          },
          "metadata": {}
        }
      ]
    },
    {
      "cell_type": "markdown",
      "source": [
        "Looks like there was a very steep decrease after 10 rounds. But you can also see, that some players install the game and never play it (4000 at 0 game rounds)"
      ],
      "metadata": {
        "id": "xz3Mg3F5hc82"
      }
    },
    {
      "cell_type": "markdown",
      "source": [
        "#Task 4: Overall 1-day retention"
      ],
      "metadata": {
        "id": "OgWXOxdt0b7W"
      }
    },
    {
      "cell_type": "markdown",
      "source": [
        "A common metric in the video gaming industry is the '1 day retention' i.e. the percentage of players that come back to play the game one day after installing it. The higher the 1-day retention is, the easier it is to retain players and build a large player base.\n",
        "\n",
        "1. Divide sum of retention_1 by count of retention_1\n",
        "2. Multiply by 100 to get percentage value\n",
        "3. Round to 2.dp\n",
        "4. Print in percentage format"
      ],
      "metadata": {
        "id": "3cRoFbu_hq3_"
      }
    },
    {
      "cell_type": "code",
      "source": [
        "number = ((df['retention_1'].sum()/df['retention_1'].count())* 100).round (2)\n",
        "number = number.astype(str) + '%'\n",
        "print(number)"
      ],
      "metadata": {
        "colab": {
          "base_uri": "https://localhost:8080/"
        },
        "id": "oG4WrHU8mvy0",
        "outputId": "3ad554c4-db94-42cb-baa3-e66f9cfdf997"
      },
      "execution_count": 27,
      "outputs": [
        {
          "output_type": "stream",
          "name": "stdout",
          "text": [
            "44.52%\n"
          ]
        }
      ]
    },
    {
      "cell_type": "markdown",
      "source": [
        "Result: Less than half of the participants came back one day after installing the game."
      ],
      "metadata": {
        "id": "3jn4SD_yoXf8"
      }
    },
    {
      "cell_type": "markdown",
      "source": [
        "#Task 5: 1 day retention by AB group"
      ],
      "metadata": {
        "id": "hNmv_z3O0jnT"
      }
    },
    {
      "cell_type": "markdown",
      "source": [
        "Now we have a bench mark, lets look at how 1-day retention differs between the two AB-groups.\n",
        "Calculate 1-day retention for each AB group:\n",
        " - Copy and paste solution from Task 4\n",
        " - Modify the code to add .groupby('version)"
      ],
      "metadata": {
        "id": "9U7d0EKuoOU5"
      }
    },
    {
      "cell_type": "code",
      "source": [
        "df.groupby('version').sum()/df.groupby('version').count()"
      ],
      "metadata": {
        "colab": {
          "base_uri": "https://localhost:8080/",
          "height": 143
        },
        "id": "j2d33MsqRccv",
        "outputId": "4dfd1e71-308e-47c3-9068-7c83f2557a0b"
      },
      "execution_count": 28,
      "outputs": [
        {
          "output_type": "execute_result",
          "data": {
            "text/plain": [
              "               userid  sum_gamerounds  retention_1  retention_7\n",
              "version                                                        \n",
              "gate_30  4.987564e+06       52.456264     0.448188     0.190201\n",
              "gate_40  5.009073e+06       51.298776     0.442283     0.182000"
            ],
            "text/html": [
              "\n",
              "  <div id=\"df-fbd0c81c-4dbb-4b00-9ab1-ff1ae6e31912\" class=\"colab-df-container\">\n",
              "    <div>\n",
              "<style scoped>\n",
              "    .dataframe tbody tr th:only-of-type {\n",
              "        vertical-align: middle;\n",
              "    }\n",
              "\n",
              "    .dataframe tbody tr th {\n",
              "        vertical-align: top;\n",
              "    }\n",
              "\n",
              "    .dataframe thead th {\n",
              "        text-align: right;\n",
              "    }\n",
              "</style>\n",
              "<table border=\"1\" class=\"dataframe\">\n",
              "  <thead>\n",
              "    <tr style=\"text-align: right;\">\n",
              "      <th></th>\n",
              "      <th>userid</th>\n",
              "      <th>sum_gamerounds</th>\n",
              "      <th>retention_1</th>\n",
              "      <th>retention_7</th>\n",
              "    </tr>\n",
              "    <tr>\n",
              "      <th>version</th>\n",
              "      <th></th>\n",
              "      <th></th>\n",
              "      <th></th>\n",
              "      <th></th>\n",
              "    </tr>\n",
              "  </thead>\n",
              "  <tbody>\n",
              "    <tr>\n",
              "      <th>gate_30</th>\n",
              "      <td>4.987564e+06</td>\n",
              "      <td>52.456264</td>\n",
              "      <td>0.448188</td>\n",
              "      <td>0.190201</td>\n",
              "    </tr>\n",
              "    <tr>\n",
              "      <th>gate_40</th>\n",
              "      <td>5.009073e+06</td>\n",
              "      <td>51.298776</td>\n",
              "      <td>0.442283</td>\n",
              "      <td>0.182000</td>\n",
              "    </tr>\n",
              "  </tbody>\n",
              "</table>\n",
              "</div>\n",
              "    <div class=\"colab-df-buttons\">\n",
              "\n",
              "  <div class=\"colab-df-container\">\n",
              "    <button class=\"colab-df-convert\" onclick=\"convertToInteractive('df-fbd0c81c-4dbb-4b00-9ab1-ff1ae6e31912')\"\n",
              "            title=\"Convert this dataframe to an interactive table.\"\n",
              "            style=\"display:none;\">\n",
              "\n",
              "  <svg xmlns=\"http://www.w3.org/2000/svg\" height=\"24px\" viewBox=\"0 -960 960 960\">\n",
              "    <path d=\"M120-120v-720h720v720H120Zm60-500h600v-160H180v160Zm220 220h160v-160H400v160Zm0 220h160v-160H400v160ZM180-400h160v-160H180v160Zm440 0h160v-160H620v160ZM180-180h160v-160H180v160Zm440 0h160v-160H620v160Z\"/>\n",
              "  </svg>\n",
              "    </button>\n",
              "\n",
              "  <style>\n",
              "    .colab-df-container {\n",
              "      display:flex;\n",
              "      gap: 12px;\n",
              "    }\n",
              "\n",
              "    .colab-df-convert {\n",
              "      background-color: #E8F0FE;\n",
              "      border: none;\n",
              "      border-radius: 50%;\n",
              "      cursor: pointer;\n",
              "      display: none;\n",
              "      fill: #1967D2;\n",
              "      height: 32px;\n",
              "      padding: 0 0 0 0;\n",
              "      width: 32px;\n",
              "    }\n",
              "\n",
              "    .colab-df-convert:hover {\n",
              "      background-color: #E2EBFA;\n",
              "      box-shadow: 0px 1px 2px rgba(60, 64, 67, 0.3), 0px 1px 3px 1px rgba(60, 64, 67, 0.15);\n",
              "      fill: #174EA6;\n",
              "    }\n",
              "\n",
              "    .colab-df-buttons div {\n",
              "      margin-bottom: 4px;\n",
              "    }\n",
              "\n",
              "    [theme=dark] .colab-df-convert {\n",
              "      background-color: #3B4455;\n",
              "      fill: #D2E3FC;\n",
              "    }\n",
              "\n",
              "    [theme=dark] .colab-df-convert:hover {\n",
              "      background-color: #434B5C;\n",
              "      box-shadow: 0px 1px 3px 1px rgba(0, 0, 0, 0.15);\n",
              "      filter: drop-shadow(0px 1px 2px rgba(0, 0, 0, 0.3));\n",
              "      fill: #FFFFFF;\n",
              "    }\n",
              "  </style>\n",
              "\n",
              "    <script>\n",
              "      const buttonEl =\n",
              "        document.querySelector('#df-fbd0c81c-4dbb-4b00-9ab1-ff1ae6e31912 button.colab-df-convert');\n",
              "      buttonEl.style.display =\n",
              "        google.colab.kernel.accessAllowed ? 'block' : 'none';\n",
              "\n",
              "      async function convertToInteractive(key) {\n",
              "        const element = document.querySelector('#df-fbd0c81c-4dbb-4b00-9ab1-ff1ae6e31912');\n",
              "        const dataTable =\n",
              "          await google.colab.kernel.invokeFunction('convertToInteractive',\n",
              "                                                    [key], {});\n",
              "        if (!dataTable) return;\n",
              "\n",
              "        const docLinkHtml = 'Like what you see? Visit the ' +\n",
              "          '<a target=\"_blank\" href=https://colab.research.google.com/notebooks/data_table.ipynb>data table notebook</a>'\n",
              "          + ' to learn more about interactive tables.';\n",
              "        element.innerHTML = '';\n",
              "        dataTable['output_type'] = 'display_data';\n",
              "        await google.colab.output.renderOutput(dataTable, element);\n",
              "        const docLink = document.createElement('div');\n",
              "        docLink.innerHTML = docLinkHtml;\n",
              "        element.appendChild(docLink);\n",
              "      }\n",
              "    </script>\n",
              "  </div>\n",
              "\n",
              "\n",
              "<div id=\"df-e32aaebb-1ecc-4067-98ed-4766c4ee788f\">\n",
              "  <button class=\"colab-df-quickchart\" onclick=\"quickchart('df-e32aaebb-1ecc-4067-98ed-4766c4ee788f')\"\n",
              "            title=\"Suggest charts\"\n",
              "            style=\"display:none;\">\n",
              "\n",
              "<svg xmlns=\"http://www.w3.org/2000/svg\" height=\"24px\"viewBox=\"0 0 24 24\"\n",
              "     width=\"24px\">\n",
              "    <g>\n",
              "        <path d=\"M19 3H5c-1.1 0-2 .9-2 2v14c0 1.1.9 2 2 2h14c1.1 0 2-.9 2-2V5c0-1.1-.9-2-2-2zM9 17H7v-7h2v7zm4 0h-2V7h2v10zm4 0h-2v-4h2v4z\"/>\n",
              "    </g>\n",
              "</svg>\n",
              "  </button>\n",
              "\n",
              "<style>\n",
              "  .colab-df-quickchart {\n",
              "      --bg-color: #E8F0FE;\n",
              "      --fill-color: #1967D2;\n",
              "      --hover-bg-color: #E2EBFA;\n",
              "      --hover-fill-color: #174EA6;\n",
              "      --disabled-fill-color: #AAA;\n",
              "      --disabled-bg-color: #DDD;\n",
              "  }\n",
              "\n",
              "  [theme=dark] .colab-df-quickchart {\n",
              "      --bg-color: #3B4455;\n",
              "      --fill-color: #D2E3FC;\n",
              "      --hover-bg-color: #434B5C;\n",
              "      --hover-fill-color: #FFFFFF;\n",
              "      --disabled-bg-color: #3B4455;\n",
              "      --disabled-fill-color: #666;\n",
              "  }\n",
              "\n",
              "  .colab-df-quickchart {\n",
              "    background-color: var(--bg-color);\n",
              "    border: none;\n",
              "    border-radius: 50%;\n",
              "    cursor: pointer;\n",
              "    display: none;\n",
              "    fill: var(--fill-color);\n",
              "    height: 32px;\n",
              "    padding: 0;\n",
              "    width: 32px;\n",
              "  }\n",
              "\n",
              "  .colab-df-quickchart:hover {\n",
              "    background-color: var(--hover-bg-color);\n",
              "    box-shadow: 0 1px 2px rgba(60, 64, 67, 0.3), 0 1px 3px 1px rgba(60, 64, 67, 0.15);\n",
              "    fill: var(--button-hover-fill-color);\n",
              "  }\n",
              "\n",
              "  .colab-df-quickchart-complete:disabled,\n",
              "  .colab-df-quickchart-complete:disabled:hover {\n",
              "    background-color: var(--disabled-bg-color);\n",
              "    fill: var(--disabled-fill-color);\n",
              "    box-shadow: none;\n",
              "  }\n",
              "\n",
              "  .colab-df-spinner {\n",
              "    border: 2px solid var(--fill-color);\n",
              "    border-color: transparent;\n",
              "    border-bottom-color: var(--fill-color);\n",
              "    animation:\n",
              "      spin 1s steps(1) infinite;\n",
              "  }\n",
              "\n",
              "  @keyframes spin {\n",
              "    0% {\n",
              "      border-color: transparent;\n",
              "      border-bottom-color: var(--fill-color);\n",
              "      border-left-color: var(--fill-color);\n",
              "    }\n",
              "    20% {\n",
              "      border-color: transparent;\n",
              "      border-left-color: var(--fill-color);\n",
              "      border-top-color: var(--fill-color);\n",
              "    }\n",
              "    30% {\n",
              "      border-color: transparent;\n",
              "      border-left-color: var(--fill-color);\n",
              "      border-top-color: var(--fill-color);\n",
              "      border-right-color: var(--fill-color);\n",
              "    }\n",
              "    40% {\n",
              "      border-color: transparent;\n",
              "      border-right-color: var(--fill-color);\n",
              "      border-top-color: var(--fill-color);\n",
              "    }\n",
              "    60% {\n",
              "      border-color: transparent;\n",
              "      border-right-color: var(--fill-color);\n",
              "    }\n",
              "    80% {\n",
              "      border-color: transparent;\n",
              "      border-right-color: var(--fill-color);\n",
              "      border-bottom-color: var(--fill-color);\n",
              "    }\n",
              "    90% {\n",
              "      border-color: transparent;\n",
              "      border-bottom-color: var(--fill-color);\n",
              "    }\n",
              "  }\n",
              "</style>\n",
              "\n",
              "  <script>\n",
              "    async function quickchart(key) {\n",
              "      const quickchartButtonEl =\n",
              "        document.querySelector('#' + key + ' button');\n",
              "      quickchartButtonEl.disabled = true;  // To prevent multiple clicks.\n",
              "      quickchartButtonEl.classList.add('colab-df-spinner');\n",
              "      try {\n",
              "        const charts = await google.colab.kernel.invokeFunction(\n",
              "            'suggestCharts', [key], {});\n",
              "      } catch (error) {\n",
              "        console.error('Error during call to suggestCharts:', error);\n",
              "      }\n",
              "      quickchartButtonEl.classList.remove('colab-df-spinner');\n",
              "      quickchartButtonEl.classList.add('colab-df-quickchart-complete');\n",
              "    }\n",
              "    (() => {\n",
              "      let quickchartButtonEl =\n",
              "        document.querySelector('#df-e32aaebb-1ecc-4067-98ed-4766c4ee788f button');\n",
              "      quickchartButtonEl.style.display =\n",
              "        google.colab.kernel.accessAllowed ? 'block' : 'none';\n",
              "    })();\n",
              "  </script>\n",
              "</div>\n",
              "\n",
              "    </div>\n",
              "  </div>\n"
            ],
            "application/vnd.google.colaboratory.intrinsic+json": {
              "type": "dataframe",
              "summary": "{\n  \"name\": \"df\",\n  \"rows\": 2,\n  \"fields\": [\n    {\n      \"column\": \"version\",\n      \"properties\": {\n        \"dtype\": \"string\",\n        \"num_unique_values\": 2,\n        \"samples\": [\n          \"gate_40\",\n          \"gate_30\"\n        ],\n        \"semantic_type\": \"\",\n        \"description\": \"\"\n      }\n    },\n    {\n      \"column\": \"userid\",\n      \"properties\": {\n        \"dtype\": \"number\",\n        \"std\": 15209.058035212132,\n        \"min\": 4987563.723512304,\n        \"max\": 5009072.5796566205,\n        \"num_unique_values\": 2,\n        \"samples\": [\n          5009072.5796566205,\n          4987563.723512304\n        ],\n        \"semantic_type\": \"\",\n        \"description\": \"\"\n      }\n    },\n    {\n      \"column\": \"sum_gamerounds\",\n      \"properties\": {\n        \"dtype\": \"number\",\n        \"std\": 0.8184679349354752,\n        \"min\": 51.29877552814966,\n        \"max\": 52.45626398210291,\n        \"num_unique_values\": 2,\n        \"samples\": [\n          51.29877552814966,\n          52.45626398210291\n        ],\n        \"semantic_type\": \"\",\n        \"description\": \"\"\n      }\n    },\n    {\n      \"column\": \"retention_1\",\n      \"properties\": {\n        \"dtype\": \"number\",\n        \"std\": 0.004175585600687068,\n        \"min\": 0.44228274967574577,\n        \"max\": 0.4481879194630872,\n        \"num_unique_values\": 2,\n        \"samples\": [\n          0.44228274967574577,\n          0.4481879194630872\n        ],\n        \"semantic_type\": \"\",\n        \"description\": \"\"\n      }\n    },\n    {\n      \"column\": \"retention_7\",\n      \"properties\": {\n        \"dtype\": \"number\",\n        \"std\": 0.005799193653215908,\n        \"min\": 0.18200004396667327,\n        \"max\": 0.19020134228187918,\n        \"num_unique_values\": 2,\n        \"samples\": [\n          0.18200004396667327,\n          0.19020134228187918\n        ],\n        \"semantic_type\": \"\",\n        \"description\": \"\"\n      }\n    }\n  ]\n}"
            }
          },
          "metadata": {},
          "execution_count": 28
        }
      ]
    },
    {
      "cell_type": "markdown",
      "source": [
        "The table shows there is a slight decrease when the gate was moved from gate_30 to gate_40. Even small changes can have big impacts in retention. But how certain can we be that gate_40 will be a worse choice, in the future?"
      ],
      "metadata": {
        "id": "2Sp2biSs9H1x"
      }
    },
    {
      "cell_type": "markdown",
      "source": [
        "#Task 6: Should we be confident in the difference?"
      ],
      "metadata": {
        "id": "WEXbJIyF0n3X"
      }
    },
    {
      "cell_type": "markdown",
      "source": [
        "To get the certainty of these retention values, we can use the bootstrapping method; by repeatedly re-sampling our dataset (With replacement) and calculate the 1-day retention for those samples. The variation in 1-day retention will give us an indication of how uncertain the retention numbers are. To do so\n",
        "\n",
        "1. Perform 500 bootstrap replications of 1-day retention and plot the result. Each replication should re-sample from df and calculate the mean retention for each AB group defined by version.\n",
        "2. Turn the list into a dataframe\n",
        "3. Plot it using KDE (Kernel Density Estimate)"
      ],
      "metadata": {
        "id": "hY20aGTN9tQu"
      }
    },
    {
      "cell_type": "code",
      "source": [
        "#Create a list with bootstrapped means for each AB group\n",
        "boot_1d = []\n",
        "iterations = 500\n",
        "for i in range(iterations):\n",
        "  boot_mean = df.sample(frac = 1, replace = True).groupby('version')['retention_1'].mean()\n",
        "  boot_1d.append(boot_mean)\n"
      ],
      "metadata": {
        "id": "6eup7y9iSx-7"
      },
      "execution_count": 29,
      "outputs": []
    },
    {
      "cell_type": "code",
      "source": [
        "#Transform the list into a DataFram\n",
        "boot_1d = pd.DataFrame(boot_1d)"
      ],
      "metadata": {
        "id": "Y9ikOUinVBD_"
      },
      "execution_count": 30,
      "outputs": []
    },
    {
      "cell_type": "code",
      "source": [
        "#Create a Kernel Density Estimate plot of the bootstrap distributions\n",
        "ax = boot_1d.plot.kde()\n",
        "ax.set_title('1-day retention Bootstrap Analysis')\n",
        "ax.set_xlabel('Mean of 1-day Retention')"
      ],
      "metadata": {
        "colab": {
          "base_uri": "https://localhost:8080/",
          "height": 489
        },
        "id": "yHouoqI4cxrF",
        "outputId": "33da0d78-31cc-4eee-80d5-b3bf8d2c9713"
      },
      "execution_count": 31,
      "outputs": [
        {
          "output_type": "execute_result",
          "data": {
            "text/plain": [
              "Text(0.5, 0, 'Mean of 1-day Retention')"
            ]
          },
          "metadata": {},
          "execution_count": 31
        },
        {
          "output_type": "display_data",
          "data": {
            "text/plain": [
              "<Figure size 640x480 with 1 Axes>"
            ],
            "image/png": "[encoded data removed]"
          },
          "metadata": {}
        }
      ]
    },
    {
      "cell_type": "markdown",
      "source": [
        "We can see there seems to be a small difference between the two groups. Lets zoom in on this 1-day retention difference."
      ],
      "metadata": {
        "id": "EXYaRxIn_L_B"
      }
    },
    {
      "cell_type": "markdown",
      "source": [
        "#Task 7: Zooming in on the difference"
      ],
      "metadata": {
        "id": "DU-xn-yL0rZp"
      }
    },
    {
      "cell_type": "markdown",
      "source": [
        "Calculate and plot the % difference in 1-day retention between the two AB- groups\n",
        "1. Calculate the bootstrap % difference in 1-day retention by:\n",
        "  Calculating the difference between gate_30 and gate_40, dividing by gate_40, and multiplying by 100\n",
        "2. Plot as KDE"
      ],
      "metadata": {
        "id": "mUyYZHAi_DL7"
      }
    },
    {
      "cell_type": "code",
      "source": [
        "#Add a column with % difference between the two AB groups\n",
        "boot_1d['diff'] = ((boot_1d.gate_30 - boot_1d.gate_40)/ boot_1d.gate_40 * 100)\n",
        "\n",
        "#Plot the bootstrap % difference\n",
        "ax = boot_1d['diff'].plot.kde()\n",
        "ax.set_xlabel('Average % Difference')\n",
        "ax.set_title(' % Diff in AB groups');"
      ],
      "metadata": {
        "colab": {
          "base_uri": "https://localhost:8080/",
          "height": 472
        },
        "id": "PliBzVKAdSwX",
        "outputId": "093de80b-a24f-435a-bd99-ec3adb46dcc7"
      },
      "execution_count": 32,
      "outputs": [
        {
          "output_type": "display_data",
          "data": {
            "text/plain": [
              "<Figure size 640x480 with 1 Axes>"
            ],
            "image/png": "[encoded data removed]"
          },
          "metadata": {}
        }
      ]
    },
    {
      "cell_type": "markdown",
      "source": [
        "The % difference is around 1-2%. Most of the distribution is above 0% in favour of gate_30."
      ],
      "metadata": {
        "id": "EPnn3bDgAKbn"
      }
    },
    {
      "cell_type": "markdown",
      "source": [
        "#Task 8 : The probability of a difference"
      ],
      "metadata": {
        "id": "3qdyESnE0vv2"
      }
    },
    {
      "cell_type": "markdown",
      "source": [
        "What is the probability that the difference is above 0%?. Calculate the probability that gate_30 will give a higher 1 day retention\n",
        "\n",
        "1. Claculate the proportion of boot_1d that is above 0.0\n",
        "2. Pretty print as a percentage"
      ],
      "metadata": {
        "id": "CWLD4na1ATzh"
      }
    },
    {
      "cell_type": "code",
      "source": [
        "prob = (boot_1d['diff'] > 0).sum() / len(boot_1d['diff'])\n",
        "'{0:.1%}'.format(prob)"
      ],
      "metadata": {
        "colab": {
          "base_uri": "https://localhost:8080/",
          "height": 35
        },
        "id": "QpY3oUHQfIXX",
        "outputId": "ec46bc98-376c-4eab-d111-5f28606524a0"
      },
      "execution_count": 33,
      "outputs": [
        {
          "output_type": "execute_result",
          "data": {
            "text/plain": [
              "'95.4%'"
            ],
            "application/vnd.google.colaboratory.intrinsic+json": {
              "type": "string"
            }
          },
          "metadata": {},
          "execution_count": 33
        }
      ]
    },
    {
      "cell_type": "markdown",
      "source": [
        "There is a high probability that 1-day retention is better when gate is at level 30. But since players have only been playing the game for one day, they probably haven't reached level 30 yet, so they're not affected by the gate yet."
      ],
      "metadata": {
        "id": "58fg7lbAAo3x"
      }
    },
    {
      "cell_type": "markdown",
      "source": [
        "#Task 9:  7-day retention by AB group"
      ],
      "metadata": {
        "id": "83JRDaxj0yta"
      }
    },
    {
      "cell_type": "markdown",
      "source": [
        "After a week, more players will have reached gate_40, so let's take alook at the 7 day retetion\n",
        "\n",
        "Calculate the 7 day retention for the two AB groups (similar code to Task 5)."
      ],
      "metadata": {
        "id": "qA-qDQLCBJ1k"
      }
    },
    {
      "cell_type": "code",
      "source": [
        "df.groupby('version')['retention_7'].mean()"
      ],
      "metadata": {
        "colab": {
          "base_uri": "https://localhost:8080/"
        },
        "id": "9ttJ_1b7unRj",
        "outputId": "c32e3e15-fef6-46eb-f2e4-32e037249dc7"
      },
      "execution_count": 34,
      "outputs": [
        {
          "output_type": "execute_result",
          "data": {
            "text/plain": [
              "version\n",
              "gate_30    0.190201\n",
              "gate_40    0.182000\n",
              "Name: retention_7, dtype: float64"
            ]
          },
          "metadata": {},
          "execution_count": 34
        }
      ]
    },
    {
      "cell_type": "markdown",
      "source": [
        "7-day retention is slightly lower at gate_40 than gate_30."
      ],
      "metadata": {
        "id": "A1fdNCirBVZt"
      }
    },
    {
      "cell_type": "markdown",
      "source": [
        "#Task 10: Bootstrapping the difference again"
      ],
      "metadata": {
        "id": "bqWKQ3bD02k9"
      }
    },
    {
      "cell_type": "markdown",
      "source": [
        "Use bootstrap analysis to figure out how certain we should be of the difference between the AB groups"
      ],
      "metadata": {
        "id": "s0HyU9-dCKz8"
      }
    },
    {
      "cell_type": "code",
      "source": [
        "#Creating a list with bootstrapped means for each AB-group\n",
        "boot_7d = []\n",
        "iterations = 500\n",
        "for i in range(iterations):\n",
        "  boot_mean = df.sample(frac = 1, replace = True).groupby('version')['retention_7'].mean()\n",
        "  boot_7d.append(boot_mean)"
      ],
      "metadata": {
        "id": "Bl1xggKdxjOl"
      },
      "execution_count": 35,
      "outputs": []
    },
    {
      "cell_type": "code",
      "source": [
        "  #Transform the list to a DataFrame\n",
        "  boot_7d = pd.DataFrame(boot_7d)"
      ],
      "metadata": {
        "id": "fBXFxjIQxmo8"
      },
      "execution_count": 36,
      "outputs": []
    },
    {
      "cell_type": "code",
      "source": [
        "#Adding a column with the % difference between the two AB groups\n",
        "boot_7d['diff'] = ((boot_7d['gate_30'] - boot_7d['gate_40']) /\n",
        "                   boot_7d['gate_40'] * 100)"
      ],
      "metadata": {
        "id": "9bpWCJfzCvqg"
      },
      "execution_count": 37,
      "outputs": []
    },
    {
      "cell_type": "code",
      "source": [
        "#Plotting the bootstrap % difference\n",
        "ax = boot_7d['diff'].plot.kde()\n",
        "ax.set_xlabel(\"% difference in means\")\n",
        "ax.set_title('Bootstrap % Difference in 7-Day Retention Means');"
      ],
      "metadata": {
        "colab": {
          "base_uri": "https://localhost:8080/",
          "height": 472
        },
        "id": "Ouk_e2v8xq8R",
        "outputId": "51036a99-a21e-41d7-a7f6-3e61183495d3"
      },
      "execution_count": 38,
      "outputs": [
        {
          "output_type": "display_data",
          "data": {
            "text/plain": [
              "<Figure size 640x480 with 1 Axes>"
            ],
            "image/png": "[encoded data removed]"
          },
          "metadata": {}
        }
      ]
    },
    {
      "cell_type": "code",
      "source": [
        "#Calculating the probability that 7-day retention is greater at gate_30\n",
        "prob = (boot_7d['diff'] > 0).mean()"
      ],
      "metadata": {
        "id": "2MAaT4YbxtwH"
      },
      "execution_count": 46,
      "outputs": []
    },
    {
      "cell_type": "code",
      "source": [
        "#Pretty printing the probability\n",
        "'{0:.1%}'.format(prob)"
      ],
      "metadata": {
        "colab": {
          "base_uri": "https://localhost:8080/",
          "height": 35
        },
        "id": "Cnh6gks0DkAV",
        "outputId": "d49f931b-ca7f-4162-82c7-14d71a3a2081"
      },
      "execution_count": 47,
      "outputs": [
        {
          "output_type": "execute_result",
          "data": {
            "text/plain": [
              "'100.0%'"
            ],
            "application/vnd.google.colaboratory.intrinsic+json": {
              "type": "string"
            }
          },
          "metadata": {},
          "execution_count": 47
        }
      ]
    },
    {
      "cell_type": "markdown",
      "source": [
        "#Task 11: Conclusion"
      ],
      "metadata": {
        "id": "-Si6OmCh06Gs"
      }
    },
    {
      "cell_type": "markdown",
      "source": [
        "Should we move the gate to level 40 or keep it at 30?\n",
        "\n",
        "Boot strap result tells us there is strong evidence that 7 day retention is higher with gate_30 than gate_40. If we want to keep retention high at day 1 and 7, we should not move the gate to level 40.\n",
        "\n",
        "Other metrics to look at include\n",
        " - number of game rounds\n",
        " - how much in game purchases are made by the two AB groups\n",
        "\n",
        " Final task: Set the move to level 40 at True or False to indicate your decision"
      ],
      "metadata": {
        "id": "FyPGtTWLD1sZ"
      }
    },
    {
      "cell_type": "code",
      "source": [
        "move_to_level_40 = False"
      ],
      "metadata": {
        "id": "72pXfB7zx9fF"
      },
      "execution_count": 52,
      "outputs": []
    },
    {
      "cell_type": "code",
      "source": [],
      "metadata": {
        "id": "W7d7N_XsEUW-"
      },
      "execution_count": null,
      "outputs": []
    }
  ]
}